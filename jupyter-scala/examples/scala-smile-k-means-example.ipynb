{
 "cells": [
  {
   "cell_type": "code",
   "execution_count": 1,
   "metadata": {},
   "outputs": [
    {
     "data": {
      "application/vnd.jupyter.widget-view+json": {
       "model_id": "",
       "version_major": 2,
       "version_minor": 0
      },
      "method": "display_data"
     },
     "metadata": {},
     "output_type": "display_data"
    },
    {
     "data": {
      "application/vnd.jupyter.widget-view+json": {
       "model_id": "5c63f476-1679-441f-9eda-1d8f29c8b09a",
       "version_major": 2,
       "version_minor": 0
      },
      "method": "display_data"
     },
     "metadata": {},
     "output_type": "display_data"
    }
   ],
   "source": [
    "%%classpath add mvn\n",
    "com.github.haifengl smile-scala_2.12 1.5.2"
   ]
  },
  {
   "cell_type": "code",
   "execution_count": 2,
   "metadata": {},
   "outputs": [
    {
     "data": {
      "text/plain": [
       "K-Means distortion: 6.30927\n",
       "Clusters of 100 data points of dimension 2:\n",
       "  0\t   24 (24.0%)\n",
       "  1\t   49 (49.0%)\n",
       "  2\t   27 (27.0%)\n"
      ]
     },
     "execution_count": 2,
     "metadata": {},
     "output_type": "execute_result"
    }
   ],
   "source": [
    "import smile.clustering._\n",
    "import scala.util.Random\n",
    "val vectors = (1 to 100).map(_ => (1 to 2).map(_ => Random.nextDouble()).toArray).toArray\n",
    "val clusters = kmeans(vectors, k = 3, runs = 20)"
   ]
  },
  {
   "cell_type": "code",
   "execution_count": 3,
   "metadata": {},
   "outputs": [
    {
     "data": {
      "text/plain": [
       "[[0.8705755488346765, 0.2497816405848935], [0.6738659704292027, 0.49339401615787715], [0.9360409922767252, 0.3106450556134187], [0.6672139228239143, 0.2770273005391214], [0.7631664444326496, 0.008925684203478279], [0.8104932955667097, 0.005610074123071573], [0.9251597924540658, 0.5113829026987887], [0.9743655287937903, 0.3781927929317833], [0.806574430645438, 0.3035906452992183], [0.7316635043203171, 0.212327802502844], [0.9792413208410505, 0.34690146230811003], [0.8461881759743083, 0.509039932973491], [0.917028061495798, 0.473391698875928], [0.9923534472891136, 0.5513424395601481], [0.6871174940955553, 0.41599949117134927], [0.8245328980353634, 0.2586352079716032], [0.964534418187682, 0.48220199802561203], [0.852394969594612, 0.044695289875224975], [0.5086038749154776, 0.3005252860869958], [0.8343854911102643, 0.4047779688782557], [0.7335960276121378, 0.31834750180684634], [0.9045006737372547, 0.006325520695311115], [0.9599339269694531, 0.5788232756556999], [0.6510871902832344, 0.06202595168549874], [0.647340489361463, 0.02478286697781773], [0.5002978550010241, 0.04193842394069469], [0.7143788224777942, 0.47635919570794183]]"
      ]
     },
     "execution_count": 3,
     "metadata": {},
     "output_type": "execute_result"
    }
   ],
   "source": [
    "val clusteringPoints = (vectors zip clusters.getClusterLabel).groupBy(_._2)\n",
    "val redPoints = clusteringPoints(0).map(_._1)\n",
    "val greenPoints = clusteringPoints(1).map(_._1)\n",
    "val bluePoints = clusteringPoints(2).map(_._1)"
   ]
  },
  {
   "cell_type": "code",
   "execution_count": 4,
   "metadata": {},
   "outputs": [
    {
     "data": {
      "application/vnd.jupyter.widget-view+json": {
       "model_id": "8ce57fb4-bea9-4ce5-841d-44a6af2a7d60",
       "version_major": 2,
       "version_minor": 0
      },
      "method": "display_data"
     },
     "metadata": {},
     "output_type": "display_data"
    }
   ],
   "source": [
    "val plot = new Plot { title = \"Clustering of random points\" }\n",
    "\n",
    "val points = List(\n",
    "    \n",
    "    // red points\n",
    "    new Points {\n",
    "        x = redPoints.map(_(0))\n",
    "        y = redPoints.map(_(1))\n",
    "        size = 5.0\n",
    "        color = Color.red\n",
    "    },\n",
    "    \n",
    "    // green points\n",
    "    new Points {\n",
    "        x = greenPoints.map(_(0))\n",
    "        y = greenPoints.map(_(1))\n",
    "        size = 5.0\n",
    "        color = Color.green\n",
    "    },\n",
    "    \n",
    "    // blue points\n",
    "    new Points {\n",
    "        x = bluePoints.map(_(0))\n",
    "        y = bluePoints.map(_(1))\n",
    "        size = 5.0\n",
    "        color = Color.blue\n",
    "    }\n",
    ")\n",
    "\n",
    "plot.add(points)"
   ]
  }
 ],
 "metadata": {
  "kernelspec": {
   "display_name": "Scala",
   "language": "scala",
   "name": "scala"
  },
  "language_info": {
   "codemirror_mode": "text/x-scala",
   "file_extension": ".scala",
   "mimetype": "",
   "name": "Scala",
   "nbconverter_exporter": "",
   "version": "2.11.12"
  },
  "toc": {
   "base_numbering": 1,
   "nav_menu": {},
   "number_sections": false,
   "sideBar": false,
   "skip_h1_title": false,
   "title_cell": "Table of Contents",
   "title_sidebar": "Contents",
   "toc_cell": false,
   "toc_position": {},
   "toc_section_display": false,
   "toc_window_display": false
  }
 },
 "nbformat": 4,
 "nbformat_minor": 2
}
